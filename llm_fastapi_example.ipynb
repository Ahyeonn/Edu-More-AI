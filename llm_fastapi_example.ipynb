{
 "cells": [
  {
   "cell_type": "markdown",
   "id": "86b666e0",
   "metadata": {},
   "source": [
    "# 환경 변수 불러오기"
   ]
  },
  {
   "cell_type": "code",
   "execution_count": 1,
   "id": "3588e09c",
   "metadata": {},
   "outputs": [],
   "source": [
    "\n",
    "\n",
    "# #Python dotenv는 애플리케이션 환경 변수를 관리하는 효율적인 방법을 제공하는 패키지이다. \n",
    "# # 특히 개발 환경에서 민감한 구성 데이터를 관리하거나 다양한 환경(개발, 테스트, 프로덕션)에 \n",
    "# # 따른 설정을 분리할 때 유용하게 사용된다.\n",
    "\n",
    "# client = OpenAI(api_key = os.getenv(\"OPENAI_API_KEY\"))\n",
    "\n",
    "# system_prompt = \"\"\"저는 초등학생들을 가르치는 교사입니다. \n",
    "#             오늘은 원숭이, 뱀, 햄스터, 사슴, 도마뱀, 참새, 물고기, 오징어 이미지를 보고 설명하는 시간을 가질거에요\"\"\"\n",
    "\n",
    "# question =  \"\"\n",
    "# response = client.chat.completions.create(\n",
    "#     model = \"gpt-4.1-nano\",\n",
    "#     messages = [\n",
    "#         {\n",
    "#             \"role\" : \"system\",\n",
    "#             \"content\" : system_prompt\n",
    "#         },\n",
    "#         {\n",
    "#             \"role\" : \"user\",  # user는 강사가 됨 \n",
    "#             \"content\" : question\n",
    "#         }\n",
    "#     ],\n",
    "#     temperature = 1.0\n",
    "# )\n",
    "# answer = response.choices[0].message.content\n",
    "# print(\"질문\", question)\n",
    "# print(\"답변\", answer)\n",
    "\n",
    "# # role의 종류\n",
    "# # system: AI의 성격/규칙/역할을 정의\n",
    "# # user: 사용자의 입력 (질문, 요청 등)\n",
    "# # assistant: AI의 응답"
   ]
  },
  {
   "cell_type": "code",
   "execution_count": null,
   "id": "0657889c",
   "metadata": {},
   "outputs": [],
   "source": [
    "import os \n",
    "from dotenv import load_dotenv\n",
    "from openai import OpenAI \n",
    "\n",
    "load_dotenv()\n",
    "\n",
    "# . wav 오디오 가져와서 듣고 텍스트 변환(STT)\n",
    "def transcribe_audio(file_path):\n",
    "    with open(file_path,\"rb\" )as f: #read + binary\n",
    "          transcript = client.audio.transcriptions.create(\n",
    "                model = \"gpt-4o-transcribe\", file = f # STT 모델 \n",
    "          )\n",
    "    return transcript.text.strip()\n",
    "# chat(question) -> 답변이 나오게 \n",
    "client = OpenAI(api_key = os.getenv(\"OPENAI_API_KEY\"))\n",
    "\n",
    "def ask_gpt(question):\n",
    "        system_prompt = \"\"\"저는 초등학생들을 가르치는 교사입니다. \n",
    "            오늘은 개코원숭이, 뱀, 햄스터, 사슴, 도마뱀, 참새, 물고기, 오징어 이미지를 보고 설명하는 시간을 가질거에요\n",
    "            동물에게 인사를 해볼까요 라고 하면 각 동물의 특징을 아이 눈높이에 맞게 적절히 설명해주세요 \n",
    "            ==============================================================================================\n",
    "            #답변 예시\n",
    "            안녕 난 얼룩말이야\n",
    "            나는 멋진 얼룩 무늬를 가지고 있어 \n",
    "            \"\"\"\n",
    "        # system_prompt, user\n",
    "        # LLM 넣어야 해\n",
    "        response = client.chat.completions.create(\n",
    "        model = \"gpt-4.1-nano\",\n",
    "                messages = [\n",
    "                        {\n",
    "                                \"role\" : \"system\",\n",
    "                                \"content\" : system_prompt\n",
    "                        },\n",
    "                        {\n",
    "                                \"role\" : \"user\",  # user는 강사가 됨 \n",
    "                                \"content\" : question\n",
    "                        }\n",
    "                ],\n",
    "                temperature = 1.0\n",
    "        )\n",
    "\n",
    "        answer = response.choices[0].message.content\n",
    "\n",
    "        return answer \n",
    "\n"
   ]
  },
  {
   "cell_type": "code",
   "execution_count": 8,
   "id": "76b476b9",
   "metadata": {},
   "outputs": [
    {
     "data": {
      "text/plain": [
       "'안녕! 나는 개코원숭이야.  \\n나는 몸이 크고 털이 부드러워. 내 얼굴에는 코가 크고 코끝이 재미있게 툭 튀어나와 있어.  \\n나는 나무 위에서 살면서 과일과 잎을 좋아해. 친구들과 함께 뛰어놀기를 좋아하는 아주 똑똑한 원숭이야!'"
      ]
     },
     "execution_count": 8,
     "metadata": {},
     "output_type": "execute_result"
    }
   ],
   "source": [
    "ask_gpt(\"개코이건 원숭이에요 원숭이에 대해서 설명해주세요\")"
   ]
  }
 ],
 "metadata": {
  "kernelspec": {
   "display_name": "edu-more",
   "language": "python",
   "name": "python3"
  },
  "language_info": {
   "codemirror_mode": {
    "name": "ipython",
    "version": 3
   },
   "file_extension": ".py",
   "mimetype": "text/x-python",
   "name": "python",
   "nbconvert_exporter": "python",
   "pygments_lexer": "ipython3",
   "version": "3.11.13"
  }
 },
 "nbformat": 4,
 "nbformat_minor": 5
}
